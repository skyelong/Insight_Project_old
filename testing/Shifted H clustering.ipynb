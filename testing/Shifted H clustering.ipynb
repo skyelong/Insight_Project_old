{
 "cells": [
  {
   "cell_type": "code",
   "execution_count": 58,
   "metadata": {},
   "outputs": [],
   "source": [
    "import numpy as np\n",
    "import pandas as pd\n",
    "import cv2"
   ]
  },
  {
   "cell_type": "markdown",
   "metadata": {},
   "source": [
    "# Using the shifted H clustering to improve color identification"
   ]
  },
  {
   "cell_type": "markdown",
   "metadata": {},
   "source": [
    "## Function to generate the shifted H values"
   ]
  },
  {
   "cell_type": "markdown",
   "metadata": {},
   "source": [
    "Data must be in RGB format with each pixel as a seperate line.\n",
    "Suggested v_thresholds and s_thresholds are 30% of sum of v and s"
   ]
  },
  {
   "cell_type": "code",
   "execution_count": 23,
   "metadata": {},
   "outputs": [],
   "source": [
    "#red test set 1- pure red, 2 - red gray, 3 - light red, 4 - dark red, 5 - white, 6 - black\n",
    "h_shifts = [[255,0,0],[133,88,88],[255,196,196],[84,24,24],[255,255,255],[0,0,1]]"
   ]
  },
  {
   "cell_type": "code",
   "execution_count": 60,
   "metadata": {},
   "outputs": [
    {
     "ename": "TypeError",
     "evalue": "Expected Ptr<cv::UMat> for argument 'src'",
     "output_type": "error",
     "traceback": [
      "\u001b[0;31m---------------------------------------------------------------------------\u001b[0m",
      "\u001b[0;31mTypeError\u001b[0m                                 Traceback (most recent call last)",
      "\u001b[0;32m<ipython-input-60-0de292b901b9>\u001b[0m in \u001b[0;36m<module>\u001b[0;34m\u001b[0m\n\u001b[0;32m----> 1\u001b[0;31m \u001b[0mhsv_convert\u001b[0m \u001b[0;34m=\u001b[0m \u001b[0mcv2\u001b[0m\u001b[0;34m.\u001b[0m\u001b[0mcvtColor\u001b[0m\u001b[0;34m(\u001b[0m\u001b[0mh_shifts\u001b[0m\u001b[0;34m,\u001b[0m \u001b[0mcv2\u001b[0m\u001b[0;34m.\u001b[0m\u001b[0mCOLOR_RGB2HSV\u001b[0m\u001b[0;34m)\u001b[0m\u001b[0;34m\u001b[0m\u001b[0;34m\u001b[0m\u001b[0m\n\u001b[0m",
      "\u001b[0;31mTypeError\u001b[0m: Expected Ptr<cv::UMat> for argument 'src'"
     ]
    }
   ],
   "source": [
    "hsv_convert = cv2.cvtColor(h_shifts, cv2.COLOR_RGB2HSV)"
   ]
  },
  {
   "cell_type": "code",
   "execution_count": 8,
   "metadata": {},
   "outputs": [
    {
     "data": {
      "text/plain": [
       "255"
      ]
     },
     "execution_count": 8,
     "metadata": {},
     "output_type": "execute_result"
    }
   ],
   "source": [
    "h_shifts[0][0]"
   ]
  },
  {
   "cell_type": "code",
   "execution_count": 16,
   "metadata": {},
   "outputs": [
    {
     "data": {
      "text/plain": [
       "1"
      ]
     },
     "execution_count": 16,
     "metadata": {},
     "output_type": "execute_result"
    }
   ],
   "source": [
    "abs(-1)"
   ]
  },
  {
   "cell_type": "code",
   "execution_count": 24,
   "metadata": {},
   "outputs": [
    {
     "name": "stdout",
     "output_type": "stream",
     "text": [
      "-1.007905138339921\n",
      "-0.2054794520547945\n",
      "-0.13140311804008908\n",
      "-0.5660377358490566\n",
      "-0.0\n",
      "1.0\n"
     ]
    }
   ],
   "source": [
    "for i in range(0,6):\n",
    "    V = max(h_shifts[i])\n",
    "    M = min(h_shifts[i])\n",
    "    S = (V-M)/(1-(abs(V+M-1)))\n",
    "    print(S)"
   ]
  },
  {
   "cell_type": "code",
   "execution_count": null,
   "metadata": {},
   "outputs": [],
   "source": [
    "h_values"
   ]
  },
  {
   "cell_type": "code",
   "execution_count": 54,
   "metadata": {},
   "outputs": [],
   "source": [
    "\n",
    "\n",
    "def shift_h(data, v_thresh, s_thresh):\n",
    "    \"\"\"Produces shifted H values for color segmentation\n",
    "    Inputs: data - list of pixel R,G,B values one entery per pixel\n",
    "    Outputs: H, H120, H240\n",
    "    \"\"\"\n",
    "    shifted_colors = []\n",
    "    for i in range(0,len(data)):\n",
    "        r = data[i][0]\n",
    "        g = data[i][1]\n",
    "        b = data[i][2]\n",
    "        V = max(data[i])\n",
    "        M = min(data[i])\n",
    "        if V == 0:\n",
    "            S = 1\n",
    "        else:    \n",
    "            S = (V-M)/(1-abs(V+M-1))\n",
    "        V_thres = 255*v_thresh\n",
    "        print(V)\n",
    "        print(V_thres)\n",
    "        S_thres = 255*s_thresh\n",
    "        print(S)\n",
    "        print(S_thres)\n",
    "        if V > V_thres and S > S_thres:\n",
    "            R = 60*((g-b)/(V-M))\n",
    "            G = 60*((2+(b-r))/(V-M))\n",
    "            B = 60*((4 + (r-g))/(V-M))\n",
    "            H = R+B+G\n",
    "            if H >= 120:\n",
    "                H120 = H - 120\n",
    "            else:\n",
    "                H120 = H + 60\n",
    "            if H >= 60:\n",
    "                H240 = H - 60\n",
    "            else:\n",
    "                H240 = H + 120\n",
    "        else:\n",
    "            H = 200 + ((V/255)*55)\n",
    "            H120 = H\n",
    "            H240 = H\n",
    "        shifted_colors.append([H,H120,H240])\n",
    "    return shifted_colors\n",
    "            \n",
    "    "
   ]
  },
  {
   "cell_type": "code",
   "execution_count": 55,
   "metadata": {},
   "outputs": [
    {
     "name": "stdout",
     "output_type": "stream",
     "text": [
      "255\n",
      "76.5\n",
      "-1.007905138339921\n",
      "76.5\n",
      "133\n",
      "76.5\n",
      "-0.2054794520547945\n",
      "76.5\n",
      "255\n",
      "76.5\n",
      "-0.13140311804008908\n",
      "76.5\n",
      "84\n",
      "76.5\n",
      "-0.5660377358490566\n",
      "76.5\n",
      "255\n",
      "76.5\n",
      "-0.0\n",
      "76.5\n",
      "1\n",
      "76.5\n",
      "1.0\n",
      "76.5\n"
     ]
    }
   ],
   "source": [
    "shift = shift_h(h_shifts, .30, .30)"
   ]
  },
  {
   "cell_type": "code",
   "execution_count": 56,
   "metadata": {},
   "outputs": [
    {
     "data": {
      "text/plain": [
       "[[255.0, 255.0, 255.0],\n",
       " [228.68627450980392, 228.68627450980392, 228.68627450980392],\n",
       " [255.0, 255.0, 255.0],\n",
       " [218.11764705882354, 218.11764705882354, 218.11764705882354],\n",
       " [255.0, 255.0, 255.0],\n",
       " [200.2156862745098, 200.2156862745098, 200.2156862745098]]"
      ]
     },
     "execution_count": 56,
     "metadata": {},
     "output_type": "execute_result"
    }
   ],
   "source": [
    "shift"
   ]
  },
  {
   "cell_type": "code",
   "execution_count": 167,
   "metadata": {},
   "outputs": [
    {
     "data": {
      "text/plain": [
       "129.0"
      ]
     },
     "execution_count": 167,
     "metadata": {},
     "output_type": "execute_result"
    }
   ],
   "source": [
    "258/2"
   ]
  },
  {
   "cell_type": "code",
   "execution_count": 168,
   "metadata": {},
   "outputs": [],
   "source": [
    "#values in hsv 1 - sap Green, deep sapgreen, chinese white, paynes grrey, lunar black, imperieal purple\n",
    "h_values = [[43,246,110], [66,240, 68], [15,9,247],[66,42,63], [42,11,124], [129,123,148]]"
   ]
  },
  {
   "cell_type": "code",
   "execution_count": 169,
   "metadata": {},
   "outputs": [],
   "source": [
    "def shift_h(data, v_thresh, s_thresh):\n",
    "    \"\"\"Produces shifted H values for color segmentation\n",
    "    Inputs: data - list of pixel H, S, V values one entry per pixel\n",
    "    Outputs: H, H120, H240\n",
    "    \"\"\"\n",
    "    shifted_colors = []\n",
    "    for i in range(0,len(data)):\n",
    "        H = data[i][0]\n",
    "        s = data[i][1]\n",
    "        v = data[i][2]\n",
    "        V_thres = 255*v_thresh\n",
    "        S_thres = 255*s_thresh\n",
    "        if (v > V_thres and s > S_thres):\n",
    "            if H >= 120:\n",
    "                H120 = H - 120\n",
    "            else:\n",
    "                H120 = H + 60\n",
    "            if H >= 60:\n",
    "                H240 = H - 60\n",
    "            else:\n",
    "                H240 = H + 120\n",
    "        else:\n",
    "            H = 200 + ((v/255)*55)\n",
    "            H120 = H\n",
    "            H240 = H\n",
    "        shifted_colors.append([H,H120,H240])\n",
    "    return shifted_colors\n",
    "            "
   ]
  },
  {
   "cell_type": "code",
   "execution_count": 163,
   "metadata": {},
   "outputs": [],
   "source": [
    "def shift_h(data, v_thresh, s_thresh):\n",
    "    \"\"\"Produces shifted H values for color segmentation\n",
    "    Inputs: data - list of pixel H, S, V values one entry per pixel\n",
    "    Outputs: H, H120, H240\n",
    "    \"\"\"\n",
    "    shifted_colors = []\n",
    "    for i in range(0,len(data)):\n",
    "        H = data[i][0]\n",
    "        s = data[i][1]\n",
    "        v = data[i][2]\n",
    "        V_thres = 255*v_thresh\n",
    "        S_thres = 255*s_thresh\n",
    "        if (v > V_thres and s > S_thres):\n",
    "            print('no')\n",
    "            if H >= 120:\n",
    "                H120 = H - 120\n",
    "            else:\n",
    "                H120 = H + 60\n",
    "            if H >= 60:\n",
    "                H240 = H - 60\n",
    "            else:\n",
    "                H240 = H + 120          \n",
    "        else:\n",
    "            print('yes')\n",
    "            H = 200 + ((v/255)*55)\n",
    "            H120 = H\n",
    "            H240 = H \n",
    "            \n",
    "        shifted_colors.append([H,H120,H240])\n",
    "    return shifted_colors\n",
    "            "
   ]
  },
  {
   "cell_type": "code",
   "execution_count": 170,
   "metadata": {},
   "outputs": [],
   "source": [
    "shift = shift_h(h_values, .2,.2)"
   ]
  },
  {
   "cell_type": "code",
   "execution_count": 171,
   "metadata": {},
   "outputs": [
    {
     "data": {
      "text/plain": [
       "[[43, 103, 163],\n",
       " [66, 126, 6],\n",
       " [253.27450980392157, 253.27450980392157, 253.27450980392157],\n",
       " [213.58823529411765, 213.58823529411765, 213.58823529411765],\n",
       " [226.7450980392157, 226.7450980392157, 226.7450980392157],\n",
       " [129, 9, 69]]"
      ]
     },
     "execution_count": 171,
     "metadata": {},
     "output_type": "execute_result"
    }
   ],
   "source": [
    "shift"
   ]
  },
  {
   "cell_type": "markdown",
   "metadata": {},
   "source": [
    "# Run K++ on each H values"
   ]
  },
  {
   "cell_type": "markdown",
   "metadata": {},
   "source": [
    "## Clustering & Bagging"
   ]
  },
  {
   "cell_type": "code",
   "execution_count": null,
   "metadata": {},
   "outputs": [],
   "source": []
  }
 ],
 "metadata": {
  "kernelspec": {
   "display_name": "Python 3",
   "language": "python",
   "name": "python3"
  },
  "language_info": {
   "codemirror_mode": {
    "name": "ipython",
    "version": 3
   },
   "file_extension": ".py",
   "mimetype": "text/x-python",
   "name": "python",
   "nbconvert_exporter": "python",
   "pygments_lexer": "ipython3",
   "version": "3.7.7"
  }
 },
 "nbformat": 4,
 "nbformat_minor": 4
}
