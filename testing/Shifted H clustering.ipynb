{
 "cells": [
  {
   "cell_type": "markdown",
   "metadata": {},
   "source": [
    "# Using the shifted H clustering to improve color identification"
   ]
  },
  {
   "cell_type": "markdown",
   "metadata": {},
   "source": [
    "## Function to generate the shifted H values"
   ]
  },
  {
   "cell_type": "code",
   "execution_count": null,
   "metadata": {},
   "outputs": [],
   "source": [
    "h_shifts = []"
   ]
  },
  {
   "cell_type": "markdown",
   "metadata": {},
   "source": [
    "Data must be in RGB format with each pixel as a seperate line.\n",
    "Suggested v_thresholds and s_thresholds are 30% of sum of v and s"
   ]
  },
  {
   "cell_type": "code",
   "execution_count": null,
   "metadata": {},
   "outputs": [],
   "source": [
    "\n",
    "\n",
    "def shift_h(data, v_thresh, s_thresh):\n",
    "    \"\"\"Produces shifted H values for color segmentation\n",
    "    Inputs: data - list of pixel R,G,B values one entery per pixel\n",
    "    Outputs: H, H120, H240\n",
    "    \"\"\"\n",
    "    for i in range(0,len(data)):\n",
    "        V = max(r,g,b)\n",
    "        M = min(r,g,b)\n",
    "        S = (V-M)/(1-(abs(V+M-1)))\n",
    "        V_thres = V*v_thresh\n",
    "        S_thres = V*s_thresh\n",
    "        if V > v_thresh & S > s_thresh:\n",
    "            R = 60*((g-b/V-M))\n",
    "            G = 60*((2+(b-r))/(V-M))\n",
    "            B = 60*((4 + (r-g))/(V-M))\n",
    "            H = R+B+G\n",
    "            if H >= 120:\n",
    "                H120 = H - 120\n",
    "            else:\n",
    "                H120 = H + 60\n",
    "            if H >= 60:\n",
    "                H240 = H - 60\n",
    "            else:\n",
    "                H240 = H + 120\n",
    "        else:\n",
    "            H = 200 + ((V/255)*55)\n",
    "            H120 = H\n",
    "            H240 = H\n",
    "        h_shifts.append[H,H120,H240]\n",
    "            \n",
    "    "
   ]
  },
  {
   "cell_type": "markdown",
   "metadata": {},
   "source": [
    "# Run K++ on each H values"
   ]
  },
  {
   "cell_type": "markdown",
   "metadata": {},
   "source": [
    "## Clustering & Bagging"
   ]
  },
  {
   "cell_type": "code",
   "execution_count": null,
   "metadata": {},
   "outputs": [],
   "source": []
  }
 ],
 "metadata": {
  "kernelspec": {
   "display_name": "Python 3",
   "language": "python",
   "name": "python3"
  },
  "language_info": {
   "codemirror_mode": {
    "name": "ipython",
    "version": 3
   },
   "file_extension": ".py",
   "mimetype": "text/x-python",
   "name": "python",
   "nbconvert_exporter": "python",
   "pygments_lexer": "ipython3",
   "version": "3.7.7"
  }
 },
 "nbformat": 4,
 "nbformat_minor": 4
}
