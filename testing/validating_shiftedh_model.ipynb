{
 "cells": [
  {
   "cell_type": "code",
   "execution_count": 1,
   "metadata": {},
   "outputs": [],
   "source": [
    "from joblib import dump, load\n",
    "import numpy as np\n",
    "import cv2\n",
    "from sqlalchemy import create_engine\n",
    "from sqlalchemy_utils import database_exists, create_database\n",
    "import psycopg2\n",
    "import pandas as pd\n",
    "from sklearn.model_selection import train_test_split\n",
    "from sklearn.neighbors import KNeighborsClassifier\n",
    "from sklearn import metrics\n",
    "import matplotlib.pyplot as plt"
   ]
  },
  {
   "cell_type": "code",
   "execution_count": 2,
   "metadata": {},
   "outputs": [],
   "source": [
    "#import the clustered ds swatches\n",
    "hsv_knn = load('ds_hsv_knn.joblib')"
   ]
  },
  {
   "cell_type": "markdown",
   "metadata": {},
   "source": [
    "# Validation steps\n",
    "1. import an image made from five swatches of ds paints\n",
    "2. collect the hsv and shifted HSV values\n",
    "3. Drop the neutral tones\n",
    "4. Cluster on K-means++ and collect the top 5 clusters\n",
    "5. Match those clusters to the hsv_knn model"
   ]
  },
  {
   "cell_type": "markdown",
   "metadata": {},
   "source": [
    "## Import the test image\n",
    "Order of test image:\n",
    "\n",
    "alizarin_crimson  | Quin_Rose. | Lemon_Yellow | new_gamboge\n",
    "\n",
    "french_ultramarine | Pth_bl_GS | Sap_green | Raw_umber"
   ]
  },
  {
   "cell_type": "code",
   "execution_count": 3,
   "metadata": {},
   "outputs": [],
   "source": [
    "img = cv2.imread('/Users/macbook/Box/insight_project_data/test_image/eight_swatches.jpg')"
   ]
  },
  {
   "cell_type": "code",
   "execution_count": null,
   "metadata": {},
   "outputs": [],
   "source": [
    "#don't forget it is in brg\n",
    "plt.imshow(img)"
   ]
  },
  {
   "cell_type": "code",
   "execution_count": 4,
   "metadata": {},
   "outputs": [],
   "source": [
    "#convert to hsv\n",
    "img_HSV = cv2.cvtColor(img, cv2.COLOR_BGR2HSV)"
   ]
  },
  {
   "cell_type": "code",
   "execution_count": 5,
   "metadata": {},
   "outputs": [],
   "source": [
    "#convert to pixels\n",
    "pixels = np.float32(img_HSV.reshape(-1, 3))"
   ]
  },
  {
   "cell_type": "code",
   "execution_count": 6,
   "metadata": {},
   "outputs": [],
   "source": [
    "def shift_h_remove(data, v_thresh, s_thresh):\n",
    "    \"\"\"Produces shifted H values for color segmentation and removed neutral tones\n",
    "    Inputs: data - list of pixel H, S, V values one entry per pixel\n",
    "    Outputs: H, H120, H240\n",
    "    \"\"\"\n",
    "    shifted_colors = []\n",
    "    for i in range(0,len(data)):\n",
    "        H = data[i][0]\n",
    "        s = data[i][1]\n",
    "        v = data[i][2]\n",
    "        V_thres = 255*v_thresh\n",
    "        S_thres = 255*s_thresh\n",
    "        if (v > V_thres and s > S_thres):\n",
    "            if H >= 120:\n",
    "                H120 = H - 120\n",
    "            else:\n",
    "                H120 = H + 60\n",
    "            if H >= 60:\n",
    "                H240 = H - 60\n",
    "            else:\n",
    "                H240 = H + 120\n",
    "            shifted_colors.append([H, s, v])        \n",
    "        else:\n",
    "           pass\n",
    "        \n",
    "        \n",
    "    return shifted_colors"
   ]
  },
  {
   "cell_type": "code",
   "execution_count": 7,
   "metadata": {},
   "outputs": [],
   "source": [
    "pixels_shift = shift_h_remove(pixels, .25, .25)"
   ]
  },
  {
   "cell_type": "code",
   "execution_count": 16,
   "metadata": {},
   "outputs": [
    {
     "data": {
      "text/plain": [
       "[178.0, 226.0, 237.0]"
      ]
     },
     "execution_count": 16,
     "metadata": {},
     "output_type": "execute_result"
    }
   ],
   "source": [
    "pixels_shift[0]"
   ]
  },
  {
   "cell_type": "code",
   "execution_count": 12,
   "metadata": {},
   "outputs": [
    {
     "data": {
      "text/plain": [
       "90000"
      ]
     },
     "execution_count": 12,
     "metadata": {},
     "output_type": "execute_result"
    }
   ],
   "source": [
    "len(pixels)"
   ]
  },
  {
   "cell_type": "code",
   "execution_count": 8,
   "metadata": {},
   "outputs": [
    {
     "data": {
      "text/plain": [
       "53568"
      ]
     },
     "execution_count": 8,
     "metadata": {},
     "output_type": "execute_result"
    }
   ],
   "source": [
    "len(pixels_shift)"
   ]
  },
  {
   "cell_type": "code",
   "execution_count": 9,
   "metadata": {},
   "outputs": [],
   "source": [
    "from sklearn.cluster import KMeans\n",
    "kmeans = KMeans(n_clusters=20, random_state=0).fit(pixels_shift)\n",
    "image2show = kmeans.cluster_centers_[kmeans.labels_]"
   ]
  },
  {
   "cell_type": "code",
   "execution_count": 18,
   "metadata": {},
   "outputs": [],
   "source": [
    "kmeans_df = pd.DataFrame(image2show, columns=['h','s','v'])"
   ]
  },
  {
   "cell_type": "code",
   "execution_count": 20,
   "metadata": {},
   "outputs": [],
   "source": [
    "kmeans_df['label'] = kmeans.labels_"
   ]
  },
  {
   "cell_type": "code",
   "execution_count": 22,
   "metadata": {},
   "outputs": [
    {
     "data": {
      "text/plain": [
       "0     6696\n",
       "11    6696\n",
       "18    4045\n",
       "17    3213\n",
       "14    2831\n",
       "12    2785\n",
       "5     2736\n",
       "16    2658\n",
       "4     2651\n",
       "9     2527\n",
       "3     2481\n",
       "7     2298\n",
       "1     2085\n",
       "15    2070\n",
       "10    1786\n",
       "6     1636\n",
       "13    1340\n",
       "8     1210\n",
       "19     935\n",
       "2      889\n",
       "Name: label, dtype: int64"
      ]
     },
     "execution_count": 22,
     "metadata": {},
     "output_type": "execute_result"
    }
   ],
   "source": [
    "kmeans_df.label.value_counts()"
   ]
  },
  {
   "cell_type": "code",
   "execution_count": 33,
   "metadata": {},
   "outputs": [],
   "source": [
    "kmeans_top = kmeans_df[(kmeans_df['label'] == 0) | (kmeans_df['label'] == 11)| (kmeans_df['label'] == 18)| (kmeans_df['label'] == 17)| (kmeans_df['label'] == 14)| (kmeans_df['label'] == 12)| (kmeans_df['label'] == 5)| (kmeans_df['label'] == 16)]"
   ]
  },
  {
   "cell_type": "code",
   "execution_count": 34,
   "metadata": {},
   "outputs": [
    {
     "data": {
      "text/html": [
       "<div>\n",
       "<style scoped>\n",
       "    .dataframe tbody tr th:only-of-type {\n",
       "        vertical-align: middle;\n",
       "    }\n",
       "\n",
       "    .dataframe tbody tr th {\n",
       "        vertical-align: top;\n",
       "    }\n",
       "\n",
       "    .dataframe thead th {\n",
       "        text-align: right;\n",
       "    }\n",
       "</style>\n",
       "<table border=\"1\" class=\"dataframe\">\n",
       "  <thead>\n",
       "    <tr style=\"text-align: right;\">\n",
       "      <th></th>\n",
       "      <th>h</th>\n",
       "      <th>s</th>\n",
       "      <th>v</th>\n",
       "      <th>label</th>\n",
       "    </tr>\n",
       "  </thead>\n",
       "  <tbody>\n",
       "    <tr>\n",
       "      <th>3</th>\n",
       "      <td>177.790227</td>\n",
       "      <td>234.012761</td>\n",
       "      <td>231.979770</td>\n",
       "      <td>17</td>\n",
       "    </tr>\n",
       "    <tr>\n",
       "      <th>7</th>\n",
       "      <td>177.790227</td>\n",
       "      <td>234.012761</td>\n",
       "      <td>231.979770</td>\n",
       "      <td>17</td>\n",
       "    </tr>\n",
       "    <tr>\n",
       "      <th>12</th>\n",
       "      <td>177.790227</td>\n",
       "      <td>234.012761</td>\n",
       "      <td>231.979770</td>\n",
       "      <td>17</td>\n",
       "    </tr>\n",
       "    <tr>\n",
       "      <th>13</th>\n",
       "      <td>177.790227</td>\n",
       "      <td>234.012761</td>\n",
       "      <td>231.979770</td>\n",
       "      <td>17</td>\n",
       "    </tr>\n",
       "    <tr>\n",
       "      <th>14</th>\n",
       "      <td>177.790227</td>\n",
       "      <td>234.012761</td>\n",
       "      <td>231.979770</td>\n",
       "      <td>17</td>\n",
       "    </tr>\n",
       "    <tr>\n",
       "      <th>...</th>\n",
       "      <td>...</td>\n",
       "      <td>...</td>\n",
       "      <td>...</td>\n",
       "      <td>...</td>\n",
       "    </tr>\n",
       "    <tr>\n",
       "      <th>53554</th>\n",
       "      <td>19.335009</td>\n",
       "      <td>238.381688</td>\n",
       "      <td>119.669659</td>\n",
       "      <td>12</td>\n",
       "    </tr>\n",
       "    <tr>\n",
       "      <th>53555</th>\n",
       "      <td>19.335009</td>\n",
       "      <td>238.381688</td>\n",
       "      <td>119.669659</td>\n",
       "      <td>12</td>\n",
       "    </tr>\n",
       "    <tr>\n",
       "      <th>53556</th>\n",
       "      <td>19.335009</td>\n",
       "      <td>238.381688</td>\n",
       "      <td>119.669659</td>\n",
       "      <td>12</td>\n",
       "    </tr>\n",
       "    <tr>\n",
       "      <th>53557</th>\n",
       "      <td>19.335009</td>\n",
       "      <td>238.381688</td>\n",
       "      <td>119.669659</td>\n",
       "      <td>12</td>\n",
       "    </tr>\n",
       "    <tr>\n",
       "      <th>53565</th>\n",
       "      <td>19.335009</td>\n",
       "      <td>238.381688</td>\n",
       "      <td>119.669659</td>\n",
       "      <td>12</td>\n",
       "    </tr>\n",
       "  </tbody>\n",
       "</table>\n",
       "<p>31660 rows × 4 columns</p>\n",
       "</div>"
      ],
      "text/plain": [
       "                h           s           v  label\n",
       "3      177.790227  234.012761  231.979770     17\n",
       "7      177.790227  234.012761  231.979770     17\n",
       "12     177.790227  234.012761  231.979770     17\n",
       "13     177.790227  234.012761  231.979770     17\n",
       "14     177.790227  234.012761  231.979770     17\n",
       "...           ...         ...         ...    ...\n",
       "53554   19.335009  238.381688  119.669659     12\n",
       "53555   19.335009  238.381688  119.669659     12\n",
       "53556   19.335009  238.381688  119.669659     12\n",
       "53557   19.335009  238.381688  119.669659     12\n",
       "53565   19.335009  238.381688  119.669659     12\n",
       "\n",
       "[31660 rows x 4 columns]"
      ]
     },
     "execution_count": 34,
     "metadata": {},
     "output_type": "execute_result"
    }
   ],
   "source": [
    "kmeans_top"
   ]
  },
  {
   "cell_type": "code",
   "execution_count": 36,
   "metadata": {},
   "outputs": [],
   "source": [
    "X = kmeans_top[['h','s','v']]"
   ]
  },
  {
   "cell_type": "code",
   "execution_count": 38,
   "metadata": {},
   "outputs": [],
   "source": [
    "predict_colors = hsv_knn.predict(X)"
   ]
  },
  {
   "cell_type": "code",
   "execution_count": 40,
   "metadata": {},
   "outputs": [],
   "source": [
    "colors2 = np.array(np.unique(predict_colors, return_counts=True)).T"
   ]
  },
  {
   "cell_type": "code",
   "execution_count": 41,
   "metadata": {},
   "outputs": [
    {
     "data": {
      "text/plain": [
       "array([['Alizarin Crimson', 3213],\n",
       "       ['Lemon Yellow', 6696],\n",
       "       ['New Gamboge', 6696],\n",
       "       ['Phthalo Blue Green Shade', 4045],\n",
       "       ['Quinacridone Rose', 5567],\n",
       "       ['Raw Umber', 2785],\n",
       "       ['Sap Green', 2658]], dtype=object)"
      ]
     },
     "execution_count": 41,
     "metadata": {},
     "output_type": "execute_result"
    }
   ],
   "source": [
    "colors2"
   ]
  },
  {
   "cell_type": "code",
   "execution_count": 10,
   "metadata": {},
   "outputs": [
    {
     "data": {
      "text/plain": [
       "array([[ 29.11230585, 254.91114098, 254.61320191],\n",
       "       [178.11846523, 242.30263789, 224.70359712],\n",
       "       [ 48.04581006, 228.47150838, 107.89608939],\n",
       "       [117.34864974, 174.60137042, 207.15155179],\n",
       "       [100.83477933, 251.60958129, 122.38061109],\n",
       "       [172.0869883 , 209.68567251, 244.25328947],\n",
       "       [ 19.57675841, 221.87706422, 127.57737003],\n",
       "       [ 19.12576153, 251.80678851, 111.78677111],\n",
       "       [117.34876033, 186.68347107, 195.18347107],\n",
       "       [175.78986941, 225.00949743, 238.91768896],\n",
       "       [ 47.26169265, 251.61581292,  97.38975501],\n",
       "       [ 22.53360215, 254.21654719, 253.99626643],\n",
       "       [ 19.33500898, 238.38168761, 119.66965889],\n",
       "       [ 39.39984768, 235.87357197, 121.12414318],\n",
       "       [172.        , 198.26245143, 249.98163193],\n",
       "       [117.42415459, 164.73043478, 217.11642512],\n",
       "       [ 39.66104869, 250.91273408, 113.09662921],\n",
       "       [177.7902272 , 234.01276066, 231.97976969],\n",
       "       [ 99.06477132, 249.41854141, 133.46526576],\n",
       "       [117.52406417, 154.52620321, 228.94010695]])"
      ]
     },
     "execution_count": 10,
     "metadata": {},
     "output_type": "execute_result"
    }
   ],
   "source": [
    "kmeans.cluster_centers_"
   ]
  },
  {
   "cell_type": "code",
   "execution_count": 13,
   "metadata": {},
   "outputs": [
    {
     "name": "stdout",
     "output_type": "stream",
     "text": [
      "[[   0 6696]\n",
      " [   1 2085]\n",
      " [   2  889]\n",
      " [   3 2481]\n",
      " [   4 2651]\n",
      " [   5 2736]\n",
      " [   6 1636]\n",
      " [   7 2298]\n",
      " [   8 1210]\n",
      " [   9 2527]\n",
      " [  10 1786]\n",
      " [  11 6696]\n",
      " [  12 2785]\n",
      " [  13 1340]\n",
      " [  14 2831]\n",
      " [  15 2070]\n",
      " [  16 2658]\n",
      " [  17 3213]\n",
      " [  18 4045]\n",
      " [  19  935]]\n"
     ]
    }
   ],
   "source": [
    "colors = np.array(np.unique(kmeans.labels_, return_counts=True)).T\n",
    "print(colors)"
   ]
  },
  {
   "cell_type": "code",
   "execution_count": 27,
   "metadata": {},
   "outputs": [
    {
     "data": {
      "text/plain": [
       "array([ 9,  9,  9, ..., 12,  7,  7], dtype=int32)"
      ]
     },
     "execution_count": 27,
     "metadata": {},
     "output_type": "execute_result"
    }
   ],
   "source": [
    "kmeans.labels_"
   ]
  },
  {
   "cell_type": "code",
   "execution_count": 29,
   "metadata": {},
   "outputs": [],
   "source": [
    "predict_colors = hsv_knn.predict(pixels_shift)"
   ]
  },
  {
   "cell_type": "code",
   "execution_count": 30,
   "metadata": {},
   "outputs": [
    {
     "data": {
      "text/plain": [
       "array(['Alizarin Crimson', 'Alizarin Crimson', 'Alizarin Crimson', ...,\n",
       "       'Raw Umber', 'Raw Umber', 'Raw Umber'], dtype=object)"
      ]
     },
     "execution_count": 30,
     "metadata": {},
     "output_type": "execute_result"
    }
   ],
   "source": [
    "predict_colors"
   ]
  },
  {
   "cell_type": "code",
   "execution_count": 32,
   "metadata": {},
   "outputs": [],
   "source": [
    "colors = np.array(np.unique(predict_colors, return_counts=True)).T"
   ]
  },
  {
   "cell_type": "code",
   "execution_count": 33,
   "metadata": {},
   "outputs": [
    {
     "data": {
      "text/plain": [
       "array([['Alizarin Crimson', 6418],\n",
       "       ['Aussie Red Gold', 1],\n",
       "       ['Burnt Umber', 4],\n",
       "       ['Cascade Green', 26],\n",
       "       ['Cerulean Blue Chromium', 462],\n",
       "       ['Cobalt Blue', 673],\n",
       "       ['French Ultramarine', 5484],\n",
       "       ['Hansa Yellow Light', 583],\n",
       "       ['Hansa Yellow Medium', 1339],\n",
       "       ['Indian Yellow', 1091],\n",
       "       ['Lemon Yellow', 4774],\n",
       "       ['New Gamboge', 4752],\n",
       "       ['Nickel Azo Yellow', 853],\n",
       "       ['Opera Pink', 265],\n",
       "       ['Permanent Alizarin Crimson', 18],\n",
       "       ['Phthalo Blue Green Shade', 6687],\n",
       "       ['Phthalo Blue Red Shade', 1],\n",
       "       ['Phthalo Turquoise', 9],\n",
       "       ['Quinacridone Pink', 19],\n",
       "       ['Quinacridone Red', 1171],\n",
       "       ['Quinacridone Rose', 5501],\n",
       "       ['Raw Umber', 4961],\n",
       "       ['Sap Green', 6440],\n",
       "       ['Sepia', 1959],\n",
       "       ['Ultramarine Blue', 77]], dtype=object)"
      ]
     },
     "execution_count": 33,
     "metadata": {},
     "output_type": "execute_result"
    }
   ],
   "source": [
    "colors"
   ]
  },
  {
   "cell_type": "code",
   "execution_count": 34,
   "metadata": {},
   "outputs": [],
   "source": [
    "predictions = pd.DataFrame(colors, columns=[\"name\",\"pixels\"])"
   ]
  },
  {
   "cell_type": "code",
   "execution_count": 39,
   "metadata": {},
   "outputs": [
    {
     "data": {
      "text/html": [
       "<div>\n",
       "<style scoped>\n",
       "    .dataframe tbody tr th:only-of-type {\n",
       "        vertical-align: middle;\n",
       "    }\n",
       "\n",
       "    .dataframe tbody tr th {\n",
       "        vertical-align: top;\n",
       "    }\n",
       "\n",
       "    .dataframe thead th {\n",
       "        text-align: right;\n",
       "    }\n",
       "</style>\n",
       "<table border=\"1\" class=\"dataframe\">\n",
       "  <thead>\n",
       "    <tr style=\"text-align: right;\">\n",
       "      <th></th>\n",
       "      <th>name</th>\n",
       "      <th>pixels</th>\n",
       "    </tr>\n",
       "  </thead>\n",
       "  <tbody>\n",
       "    <tr>\n",
       "      <th>15</th>\n",
       "      <td>Phthalo Blue Green Shade</td>\n",
       "      <td>6687</td>\n",
       "    </tr>\n",
       "    <tr>\n",
       "      <th>22</th>\n",
       "      <td>Sap Green</td>\n",
       "      <td>6440</td>\n",
       "    </tr>\n",
       "    <tr>\n",
       "      <th>0</th>\n",
       "      <td>Alizarin Crimson</td>\n",
       "      <td>6418</td>\n",
       "    </tr>\n",
       "    <tr>\n",
       "      <th>20</th>\n",
       "      <td>Quinacridone Rose</td>\n",
       "      <td>5501</td>\n",
       "    </tr>\n",
       "    <tr>\n",
       "      <th>6</th>\n",
       "      <td>French Ultramarine</td>\n",
       "      <td>5484</td>\n",
       "    </tr>\n",
       "    <tr>\n",
       "      <th>21</th>\n",
       "      <td>Raw Umber</td>\n",
       "      <td>4961</td>\n",
       "    </tr>\n",
       "    <tr>\n",
       "      <th>10</th>\n",
       "      <td>Lemon Yellow</td>\n",
       "      <td>4774</td>\n",
       "    </tr>\n",
       "    <tr>\n",
       "      <th>11</th>\n",
       "      <td>New Gamboge</td>\n",
       "      <td>4752</td>\n",
       "    </tr>\n",
       "    <tr>\n",
       "      <th>23</th>\n",
       "      <td>Sepia</td>\n",
       "      <td>1959</td>\n",
       "    </tr>\n",
       "    <tr>\n",
       "      <th>8</th>\n",
       "      <td>Hansa Yellow Medium</td>\n",
       "      <td>1339</td>\n",
       "    </tr>\n",
       "    <tr>\n",
       "      <th>19</th>\n",
       "      <td>Quinacridone Red</td>\n",
       "      <td>1171</td>\n",
       "    </tr>\n",
       "    <tr>\n",
       "      <th>9</th>\n",
       "      <td>Indian Yellow</td>\n",
       "      <td>1091</td>\n",
       "    </tr>\n",
       "    <tr>\n",
       "      <th>12</th>\n",
       "      <td>Nickel Azo Yellow</td>\n",
       "      <td>853</td>\n",
       "    </tr>\n",
       "    <tr>\n",
       "      <th>5</th>\n",
       "      <td>Cobalt Blue</td>\n",
       "      <td>673</td>\n",
       "    </tr>\n",
       "    <tr>\n",
       "      <th>7</th>\n",
       "      <td>Hansa Yellow Light</td>\n",
       "      <td>583</td>\n",
       "    </tr>\n",
       "    <tr>\n",
       "      <th>4</th>\n",
       "      <td>Cerulean Blue Chromium</td>\n",
       "      <td>462</td>\n",
       "    </tr>\n",
       "    <tr>\n",
       "      <th>13</th>\n",
       "      <td>Opera Pink</td>\n",
       "      <td>265</td>\n",
       "    </tr>\n",
       "    <tr>\n",
       "      <th>24</th>\n",
       "      <td>Ultramarine Blue</td>\n",
       "      <td>77</td>\n",
       "    </tr>\n",
       "    <tr>\n",
       "      <th>3</th>\n",
       "      <td>Cascade Green</td>\n",
       "      <td>26</td>\n",
       "    </tr>\n",
       "    <tr>\n",
       "      <th>18</th>\n",
       "      <td>Quinacridone Pink</td>\n",
       "      <td>19</td>\n",
       "    </tr>\n",
       "    <tr>\n",
       "      <th>14</th>\n",
       "      <td>Permanent Alizarin Crimson</td>\n",
       "      <td>18</td>\n",
       "    </tr>\n",
       "    <tr>\n",
       "      <th>17</th>\n",
       "      <td>Phthalo Turquoise</td>\n",
       "      <td>9</td>\n",
       "    </tr>\n",
       "    <tr>\n",
       "      <th>2</th>\n",
       "      <td>Burnt Umber</td>\n",
       "      <td>4</td>\n",
       "    </tr>\n",
       "    <tr>\n",
       "      <th>1</th>\n",
       "      <td>Aussie Red Gold</td>\n",
       "      <td>1</td>\n",
       "    </tr>\n",
       "    <tr>\n",
       "      <th>16</th>\n",
       "      <td>Phthalo Blue Red Shade</td>\n",
       "      <td>1</td>\n",
       "    </tr>\n",
       "  </tbody>\n",
       "</table>\n",
       "</div>"
      ],
      "text/plain": [
       "                          name pixels\n",
       "15    Phthalo Blue Green Shade   6687\n",
       "22                   Sap Green   6440\n",
       "0             Alizarin Crimson   6418\n",
       "20           Quinacridone Rose   5501\n",
       "6           French Ultramarine   5484\n",
       "21                   Raw Umber   4961\n",
       "10                Lemon Yellow   4774\n",
       "11                 New Gamboge   4752\n",
       "23                       Sepia   1959\n",
       "8          Hansa Yellow Medium   1339\n",
       "19            Quinacridone Red   1171\n",
       "9                Indian Yellow   1091\n",
       "12           Nickel Azo Yellow    853\n",
       "5                  Cobalt Blue    673\n",
       "7           Hansa Yellow Light    583\n",
       "4       Cerulean Blue Chromium    462\n",
       "13                  Opera Pink    265\n",
       "24            Ultramarine Blue     77\n",
       "3                Cascade Green     26\n",
       "18           Quinacridone Pink     19\n",
       "14  Permanent Alizarin Crimson     18\n",
       "17           Phthalo Turquoise      9\n",
       "2                  Burnt Umber      4\n",
       "1              Aussie Red Gold      1\n",
       "16      Phthalo Blue Red Shade      1"
      ]
     },
     "execution_count": 39,
     "metadata": {},
     "output_type": "execute_result"
    }
   ],
   "source": [
    "predictions.sort_values(by=['pixels'], ascending = False)"
   ]
  }
 ],
 "metadata": {
  "kernelspec": {
   "display_name": "Python 3",
   "language": "python",
   "name": "python3"
  },
  "language_info": {
   "codemirror_mode": {
    "name": "ipython",
    "version": 3
   },
   "file_extension": ".py",
   "mimetype": "text/x-python",
   "name": "python",
   "nbconvert_exporter": "python",
   "pygments_lexer": "ipython3",
   "version": "3.7.7"
  }
 },
 "nbformat": 4,
 "nbformat_minor": 4
}
