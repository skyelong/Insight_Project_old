{
 "cells": [
  {
   "cell_type": "code",
   "execution_count": 1,
   "metadata": {},
   "outputs": [],
   "source": [
    "from joblib import dump, load\n",
    "import numpy as np\n",
    "import cv2\n",
    "from sqlalchemy import create_engine\n",
    "from sqlalchemy_utils import database_exists, create_database\n",
    "import psycopg2\n",
    "import pandas as pd\n",
    "from sklearn.model_selection import train_test_split\n",
    "from sklearn.neighbors import KNeighborsClassifier\n",
    "from sklearn import metrics\n",
    "import matplotlib.pyplot as plt"
   ]
  },
  {
   "cell_type": "code",
   "execution_count": 2,
   "metadata": {},
   "outputs": [],
   "source": [
    "#import the clustered ds swatches\n",
    "hsv_knn = load('ds_hsv_knn.joblib')"
   ]
  },
  {
   "cell_type": "markdown",
   "metadata": {},
   "source": [
    "# Validation steps\n",
    "1. import an image made from five swatches of ds paints\n",
    "2. collect the hsv and shifted HSV values\n",
    "3. Drop the neutral tones\n",
    "4. Cluster on K-means++ and collect the top 5 clusters\n",
    "5. Match those clusters to the hsv_knn model"
   ]
  },
  {
   "cell_type": "markdown",
   "metadata": {},
   "source": [
    "## Import the test image\n",
    "Order of test image:\n",
    "\n",
    "alizarin_crimson  | Quin_Rose. | Lemon_Yellow | new_gamboge\n",
    "\n",
    "french_ultramarine | Pth_bl_GS | Sap_green | Raw_umber"
   ]
  },
  {
   "cell_type": "code",
   "execution_count": 3,
   "metadata": {},
   "outputs": [],
   "source": [
    "img = cv2.imread('/Users/macbook/Box/insight_project_data/test_image/eight_swatches.jpg')"
   ]
  },
  {
   "cell_type": "code",
   "execution_count": null,
   "metadata": {},
   "outputs": [],
   "source": [
    "#don't forget it is in brg\n",
    "plt.imshow(img)"
   ]
  },
  {
   "cell_type": "code",
   "execution_count": 4,
   "metadata": {},
   "outputs": [],
   "source": [
    "#convert to hsv\n",
    "img_HSV = cv2.cvtColor(img, cv2.COLOR_BGR2HSV)"
   ]
  },
  {
   "cell_type": "code",
   "execution_count": 5,
   "metadata": {},
   "outputs": [],
   "source": [
    "#convert to pixels\n",
    "pixels = np.float32(img_HSV.reshape(-1, 3))"
   ]
  },
  {
   "cell_type": "code",
   "execution_count": null,
   "metadata": {},
   "outputs": [],
   "source": [
    "def shift_h(data, v_thresh, s_thresh):\n",
    "    \"\"\"Produces shifted H values for color segmentation\n",
    "    Inputs: data - list of pixel H, S, V values one entry per pixel\n",
    "    Outputs: H, H120, H240\n",
    "    \"\"\"\n",
    "    shifted_colors = []\n",
    "    for i in range(0,len(data)):\n",
    "        H = data[i][0]\n",
    "        s = data[i][1]\n",
    "        v = data[i][2]\n",
    "        V_thres = 255*v_thresh\n",
    "        S_thres = 255*s_thresh\n",
    "        if (v > V_thres and s > S_thres):\n",
    "            if H >= 120:\n",
    "                H120 = H - 120\n",
    "            else:\n",
    "                H120 = H + 60\n",
    "            if H >= 60:\n",
    "                H240 = H - 60\n",
    "            else:\n",
    "                H240 = H + 120\n",
    "        else:\n",
    "            H = 200 + ((v/255)*55)\n",
    "            H120 = H\n",
    "            H240 = H\n",
    "        shifted_colors.append([H,H120,H240, s, v])\n",
    "    return shifted_colors\n",
    "            "
   ]
  },
  {
   "cell_type": "code",
   "execution_count": 9,
   "metadata": {},
   "outputs": [],
   "source": [
    "def shift_h_remove(data, v_thresh, s_thresh):\n",
    "    \"\"\"Produces shifted H values for color segmentation and removed neutral tones\n",
    "    Inputs: data - list of pixel H, S, V values one entry per pixel\n",
    "    Outputs: H, H120, H240\n",
    "    \"\"\"\n",
    "    shifted_colors = []\n",
    "    for i in range(0,len(data)):\n",
    "        H = data[i][0]\n",
    "        s = data[i][1]\n",
    "        v = data[i][2]\n",
    "        V_thres = 255*v_thresh\n",
    "        S_thres = 255*s_thresh\n",
    "        if (v > V_thres and s > S_thres):\n",
    "            if H >= 120:\n",
    "                H120 = H - 120\n",
    "            else:\n",
    "                H120 = H + 60\n",
    "            if H >= 60:\n",
    "                H240 = H - 60\n",
    "            else:\n",
    "                H240 = H + 120\n",
    "            shifted_colors.append([H,H120,H240, s, v])        \n",
    "        else:\n",
    "           pass\n",
    "        \n",
    "        \n",
    "    return shifted_colors"
   ]
  },
  {
   "cell_type": "code",
   "execution_count": 10,
   "metadata": {},
   "outputs": [],
   "source": [
    "pixels_shift = shift_h_remove(pixels, .25, .25)"
   ]
  },
  {
   "cell_type": "code",
   "execution_count": 11,
   "metadata": {},
   "outputs": [
    {
     "data": {
      "text/plain": [
       "[178.0, 58.0, 118.0, 226.0, 237.0]"
      ]
     },
     "execution_count": 11,
     "metadata": {},
     "output_type": "execute_result"
    }
   ],
   "source": [
    "pixels_shift[0]"
   ]
  },
  {
   "cell_type": "code",
   "execution_count": 12,
   "metadata": {},
   "outputs": [
    {
     "data": {
      "text/plain": [
       "90000"
      ]
     },
     "execution_count": 12,
     "metadata": {},
     "output_type": "execute_result"
    }
   ],
   "source": [
    "len(pixels)"
   ]
  },
  {
   "cell_type": "code",
   "execution_count": 13,
   "metadata": {},
   "outputs": [
    {
     "data": {
      "text/plain": [
       "53568"
      ]
     },
     "execution_count": 13,
     "metadata": {},
     "output_type": "execute_result"
    }
   ],
   "source": [
    "len(pixels_shift)"
   ]
  },
  {
   "cell_type": "code",
   "execution_count": null,
   "metadata": {},
   "outputs": [],
   "source": []
  },
  {
   "cell_type": "code",
   "execution_count": null,
   "metadata": {},
   "outputs": [],
   "source": []
  },
  {
   "cell_type": "code",
   "execution_count": null,
   "metadata": {},
   "outputs": [],
   "source": []
  }
 ],
 "metadata": {
  "kernelspec": {
   "display_name": "Python 3",
   "language": "python",
   "name": "python3"
  },
  "language_info": {
   "codemirror_mode": {
    "name": "ipython",
    "version": 3
   },
   "file_extension": ".py",
   "mimetype": "text/x-python",
   "name": "python",
   "nbconvert_exporter": "python",
   "pygments_lexer": "ipython3",
   "version": "3.7.7"
  }
 },
 "nbformat": 4,
 "nbformat_minor": 4
}
