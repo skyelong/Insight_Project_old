{
 "cells": [
  {
   "cell_type": "code",
   "execution_count": 922,
   "metadata": {},
   "outputs": [],
   "source": [
    "from joblib import dump, load\n",
    "import numpy as np\n",
    "import cv2\n",
    "from sqlalchemy import create_engine\n",
    "from sqlalchemy_utils import database_exists, create_database\n",
    "import psycopg2\n",
    "import pandas as pd\n",
    "from sklearn.model_selection import train_test_split\n",
    "from sklearn.neighbors import KNeighborsClassifier\n",
    "from sklearn import metrics\n",
    "import matplotlib.pyplot as plt"
   ]
  },
  {
   "cell_type": "code",
   "execution_count": 923,
   "metadata": {},
   "outputs": [],
   "source": [
    "#import the clustered ds swatches\n",
    "hsv_knn = load('ds_h_knn_3.joblib')"
   ]
  },
  {
   "cell_type": "markdown",
   "metadata": {},
   "source": [
    "# Validation steps\n",
    "1. import an image made from five swatches of ds paints\n",
    "2. collect the hsv and shifted HSV values\n",
    "3. Drop the neutral tones\n",
    "4. Cluster on K-means++ and collect the top 5 clusters\n",
    "5. Match those clusters to the hsv_knn model"
   ]
  },
  {
   "cell_type": "markdown",
   "metadata": {},
   "source": [
    "## Import the test image\n",
    "goldfinch"
   ]
  },
  {
   "cell_type": "code",
   "execution_count": 960,
   "metadata": {},
   "outputs": [],
   "source": [
    "img = cv2.imread('/Users/macbook/Box/insight_project_data/test_image/rose2.jpg')"
   ]
  },
  {
   "cell_type": "code",
   "execution_count": 961,
   "metadata": {},
   "outputs": [
    {
     "data": {
      "text/plain": [
       "<matplotlib.image.AxesImage at 0x1a35d13790>"
      ]
     },
     "execution_count": 961,
     "metadata": {},
     "output_type": "execute_result"
    },
    {
     "data": {
      "image/png": "[encoded data removed]",
      "text/plain": [
       "<Figure size 432x288 with 1 Axes>"
      ]
     },
     "metadata": {
      "needs_background": "light"
     },
     "output_type": "display_data"
    }
   ],
   "source": [
    "#don't forget it is in brg\n",
    "plt.imshow(img)"
   ]
  },
  {
   "cell_type": "code",
   "execution_count": 962,
   "metadata": {},
   "outputs": [],
   "source": [
    "#convert to hsv\n",
    "img_HSV = cv2.cvtColor(img, cv2.COLOR_BGR2HSV)\n"
   ]
  },
  {
   "cell_type": "code",
   "execution_count": 963,
   "metadata": {},
   "outputs": [],
   "source": [
    "#convert to pixels\n",
    "pixels = np.float32(img_HSV.reshape(-1, 3))"
   ]
  },
  {
   "cell_type": "code",
   "execution_count": 964,
   "metadata": {},
   "outputs": [],
   "source": [
    "def shift_h_remove(data, v_thresh, s_thresh):\n",
    "    \"\"\"Produces shifted H values for color segmentation and removed neutral tones\n",
    "    Inputs: data - list of pixel H, S, V values one entry per pixel\n",
    "    Outputs: H, H120, H240\n",
    "    \"\"\"\n",
    "    shifted_colors = []\n",
    "    for i in range(0,len(data)):\n",
    "        H = data[i][0]\n",
    "        s = data[i][1]\n",
    "        v = data[i][2]\n",
    "        V_thres = 255*v_thresh\n",
    "        S_thres = 255*s_thresh\n",
    "        if (v > V_thres and s > S_thres):\n",
    "            if H >= 120:\n",
    "                H120 = H - 120\n",
    "            else:\n",
    "                H120 = H + 60\n",
    "            if H >= 60:\n",
    "                H240 = H - 60\n",
    "            else:\n",
    "                H240 = H + 120\n",
    "            shifted_colors.append([H, H120, H240, s, v])        \n",
    "        else:\n",
    "           pass\n",
    "        \n",
    "        \n",
    "    return shifted_colors"
   ]
  },
  {
   "cell_type": "code",
   "execution_count": 965,
   "metadata": {},
   "outputs": [],
   "source": [
    "pixels_shift = shift_h_remove(pixels, .25, .25)"
   ]
  },
  {
   "cell_type": "code",
   "execution_count": 750,
   "metadata": {},
   "outputs": [
    {
     "data": {
      "text/plain": [
       "[40.0, 100.0, 160.0, 126.0, 138.0]"
      ]
     },
     "execution_count": 750,
     "metadata": {},
     "output_type": "execute_result"
    }
   ],
   "source": [
    "pixels_shift[0]"
   ]
  },
  {
   "cell_type": "code",
   "execution_count": 751,
   "metadata": {},
   "outputs": [
    {
     "data": {
      "text/plain": [
       "172800"
      ]
     },
     "execution_count": 751,
     "metadata": {},
     "output_type": "execute_result"
    }
   ],
   "source": [
    "len(pixels)"
   ]
  },
  {
   "cell_type": "code",
   "execution_count": 752,
   "metadata": {},
   "outputs": [
    {
     "data": {
      "text/plain": [
       "145714"
      ]
     },
     "execution_count": 752,
     "metadata": {},
     "output_type": "execute_result"
    }
   ],
   "source": [
    "len(pixels_shift)"
   ]
  },
  {
   "cell_type": "code",
   "execution_count": 966,
   "metadata": {},
   "outputs": [],
   "source": [
    "pixels_df = pd.DataFrame(pixels_shift, columns=['h','H120','H240','s','v'])"
   ]
  },
  {
   "cell_type": "code",
   "execution_count": 967,
   "metadata": {},
   "outputs": [],
   "source": [
    "X_pixels = pixels_df[['h']]"
   ]
  },
  {
   "cell_type": "code",
   "execution_count": 968,
   "metadata": {},
   "outputs": [],
   "source": [
    "from sklearn.cluster import KMeans\n",
    "kmeans = KMeans(n_clusters=8, random_state=42, algorithm = 'full')\n",
    "kmeans.fit(X_pixels)\n",
    "image2show = kmeans.cluster_centers_[kmeans.labels_]"
   ]
  },
  {
   "cell_type": "code",
   "execution_count": 969,
   "metadata": {},
   "outputs": [],
   "source": [
    "kmeans_df = pd.DataFrame(image2show, columns=['h'])"
   ]
  },
  {
   "cell_type": "code",
   "execution_count": 907,
   "metadata": {},
   "outputs": [],
   "source": [
    "kmeans_df['label'] = kmeans.labels_"
   ]
  },
  {
   "cell_type": "code",
   "execution_count": 908,
   "metadata": {},
   "outputs": [
    {
     "data": {
      "text/html": [
       "<div>\n",
       "<style scoped>\n",
       "    .dataframe tbody tr th:only-of-type {\n",
       "        vertical-align: middle;\n",
       "    }\n",
       "\n",
       "    .dataframe tbody tr th {\n",
       "        vertical-align: top;\n",
       "    }\n",
       "\n",
       "    .dataframe thead th {\n",
       "        text-align: right;\n",
       "    }\n",
       "</style>\n",
       "<table border=\"1\" class=\"dataframe\">\n",
       "  <thead>\n",
       "    <tr style=\"text-align: right;\">\n",
       "      <th></th>\n",
       "      <th>h</th>\n",
       "    </tr>\n",
       "    <tr>\n",
       "      <th>label</th>\n",
       "      <th></th>\n",
       "    </tr>\n",
       "  </thead>\n",
       "  <tbody>\n",
       "    <tr>\n",
       "      <th>0</th>\n",
       "      <td>36.933394</td>\n",
       "    </tr>\n",
       "    <tr>\n",
       "      <th>1</th>\n",
       "      <td>106.618328</td>\n",
       "    </tr>\n",
       "    <tr>\n",
       "      <th>2</th>\n",
       "      <td>49.042010</td>\n",
       "    </tr>\n",
       "    <tr>\n",
       "      <th>3</th>\n",
       "      <td>175.204285</td>\n",
       "    </tr>\n",
       "    <tr>\n",
       "      <th>4</th>\n",
       "      <td>8.638229</td>\n",
       "    </tr>\n",
       "    <tr>\n",
       "      <th>5</th>\n",
       "      <td>40.085832</td>\n",
       "    </tr>\n",
       "    <tr>\n",
       "      <th>6</th>\n",
       "      <td>67.061803</td>\n",
       "    </tr>\n",
       "    <tr>\n",
       "      <th>7</th>\n",
       "      <td>27.723581</td>\n",
       "    </tr>\n",
       "  </tbody>\n",
       "</table>\n",
       "</div>"
      ],
      "text/plain": [
       "                h\n",
       "label            \n",
       "0       36.933394\n",
       "1      106.618328\n",
       "2       49.042010\n",
       "3      175.204285\n",
       "4        8.638229\n",
       "5       40.085832\n",
       "6       67.061803\n",
       "7       27.723581"
      ]
     },
     "execution_count": 908,
     "metadata": {},
     "output_type": "execute_result"
    }
   ],
   "source": [
    "kmeans_df.groupby('label').mean()"
   ]
  },
  {
   "cell_type": "code",
   "execution_count": 909,
   "metadata": {},
   "outputs": [
    {
     "data": {
      "text/plain": [
       "0    166020\n",
       "5     78281\n",
       "2     43180\n",
       "1     31493\n",
       "7     11450\n",
       "4      9893\n",
       "6      4935\n",
       "3      2007\n",
       "Name: label, dtype: int64"
      ]
     },
     "execution_count": 909,
     "metadata": {},
     "output_type": "execute_result"
    }
   ],
   "source": [
    "kmeans_df.label.value_counts()"
   ]
  },
  {
   "cell_type": "code",
   "execution_count": 910,
   "metadata": {},
   "outputs": [],
   "source": [
    "kmeans_top = kmeans_df[(kmeans_df['label'] == 5) | (kmeans_df['label'] == 14)| (kmeans_df['label'] == 0)| (kmeans_df['label'] == 17)| (kmeans_df['label'] == 16)| (kmeans_df['label'] == 3)| (kmeans_df['label'] == 11)| (kmeans_df['label'] == 12)| (kmeans_df['label'] == 8)]"
   ]
  },
  {
   "cell_type": "code",
   "execution_count": 911,
   "metadata": {},
   "outputs": [
    {
     "data": {
      "text/plain": [
       "0    166020\n",
       "5     78281\n",
       "3      2007\n",
       "Name: label, dtype: int64"
      ]
     },
     "execution_count": 911,
     "metadata": {},
     "output_type": "execute_result"
    }
   ],
   "source": [
    "kmeans_top.label.value_counts()"
   ]
  },
  {
   "cell_type": "code",
   "execution_count": 970,
   "metadata": {},
   "outputs": [],
   "source": [
    "X = kmeans_df[['h']]"
   ]
  },
  {
   "cell_type": "code",
   "execution_count": 971,
   "metadata": {},
   "outputs": [],
   "source": [
    "predict_colors = hsv_knn.predict(X)"
   ]
  },
  {
   "cell_type": "code",
   "execution_count": 972,
   "metadata": {},
   "outputs": [],
   "source": [
    "colors2 = np.array(np.unique(predict_colors, return_counts=True)).T"
   ]
  },
  {
   "cell_type": "code",
   "execution_count": 973,
   "metadata": {},
   "outputs": [
    {
     "data": {
      "text/plain": [
       "array(['Alizarin Crimson', 'Hansa Yellow Medium', 'Hooker’s Green',\n",
       "       'Quinacridone Coral', 'Sap Green', 'Sepia'], dtype=object)"
      ]
     },
     "execution_count": 973,
     "metadata": {},
     "output_type": "execute_result"
    }
   ],
   "source": [
    "colors2[:,0]"
   ]
  },
  {
   "cell_type": "code",
   "execution_count": 974,
   "metadata": {},
   "outputs": [],
   "source": [
    "colors2df = pd.DataFrame(colors2, columns = ['name', 'count'])"
   ]
  },
  {
   "cell_type": "code",
   "execution_count": 975,
   "metadata": {},
   "outputs": [],
   "source": [
    "names = colors2df.sort_values(by=['count'], ascending = False)"
   ]
  },
  {
   "cell_type": "code",
   "execution_count": 976,
   "metadata": {},
   "outputs": [],
   "source": [
    "names_top = names[names[\"count\"] > 1000]"
   ]
  },
  {
   "cell_type": "code",
   "execution_count": 977,
   "metadata": {},
   "outputs": [
    {
     "data": {
      "text/html": [
       "<div>\n",
       "<style scoped>\n",
       "    .dataframe tbody tr th:only-of-type {\n",
       "        vertical-align: middle;\n",
       "    }\n",
       "\n",
       "    .dataframe tbody tr th {\n",
       "        vertical-align: top;\n",
       "    }\n",
       "\n",
       "    .dataframe thead th {\n",
       "        text-align: right;\n",
       "    }\n",
       "</style>\n",
       "<table border=\"1\" class=\"dataframe\">\n",
       "  <thead>\n",
       "    <tr style=\"text-align: right;\">\n",
       "      <th></th>\n",
       "      <th>name</th>\n",
       "      <th>count</th>\n",
       "    </tr>\n",
       "  </thead>\n",
       "  <tbody>\n",
       "    <tr>\n",
       "      <th>2</th>\n",
       "      <td>Hooker’s Green</td>\n",
       "      <td>26258</td>\n",
       "    </tr>\n",
       "    <tr>\n",
       "      <th>0</th>\n",
       "      <td>Alizarin Crimson</td>\n",
       "      <td>17397</td>\n",
       "    </tr>\n",
       "    <tr>\n",
       "      <th>4</th>\n",
       "      <td>Sap Green</td>\n",
       "      <td>10837</td>\n",
       "    </tr>\n",
       "    <tr>\n",
       "      <th>3</th>\n",
       "      <td>Quinacridone Coral</td>\n",
       "      <td>3855</td>\n",
       "    </tr>\n",
       "    <tr>\n",
       "      <th>1</th>\n",
       "      <td>Hansa Yellow Medium</td>\n",
       "      <td>3332</td>\n",
       "    </tr>\n",
       "  </tbody>\n",
       "</table>\n",
       "</div>"
      ],
      "text/plain": [
       "                  name  count\n",
       "2       Hooker’s Green  26258\n",
       "0     Alizarin Crimson  17397\n",
       "4            Sap Green  10837\n",
       "3   Quinacridone Coral   3855\n",
       "1  Hansa Yellow Medium   3332"
      ]
     },
     "execution_count": 977,
     "metadata": {},
     "output_type": "execute_result"
    }
   ],
   "source": [
    "names_top"
   ]
  },
  {
   "cell_type": "code",
   "execution_count": 956,
   "metadata": {},
   "outputs": [],
   "source": [
    "j = ''"
   ]
  },
  {
   "cell_type": "code",
   "execution_count": 957,
   "metadata": {},
   "outputs": [],
   "source": [
    "for i in range(0,len(names_top)):\n",
    "    j += str(names_top.name[i]) + \"; \"\n",
    "               "
   ]
  },
  {
   "cell_type": "code",
   "execution_count": 958,
   "metadata": {},
   "outputs": [
    {
     "data": {
      "text/plain": [
       "'Cadmium Yellow Light Hue; Phthalo Blue Red Shade; Phthalo Green Yellow Shade; Quinacridone Coral; Quinacridone Red; Sap Green; Shadow Violet; '"
      ]
     },
     "execution_count": 958,
     "metadata": {},
     "output_type": "execute_result"
    }
   ],
   "source": [
    "j"
   ]
  },
  {
   "cell_type": "code",
   "execution_count": 889,
   "metadata": {},
   "outputs": [
    {
     "data": {
      "text/plain": [
       "array([[ 43.30854256],\n",
       "       [  7.68678839],\n",
       "       [ 34.43389365],\n",
       "       [ 17.48340492],\n",
       "       [ 47.38060202],\n",
       "       [  3.85151758],\n",
       "       [ 39.99298131],\n",
       "       [178.04347826]])"
      ]
     },
     "execution_count": 889,
     "metadata": {},
     "output_type": "execute_result"
    }
   ],
   "source": [
    "kmeans.cluster_centers_"
   ]
  },
  {
   "cell_type": "code",
   "execution_count": 890,
   "metadata": {},
   "outputs": [
    {
     "name": "stdout",
     "output_type": "stream",
     "text": [
      "[[     0 245629]\n",
      " [     1  90201]\n",
      " [     2  57468]\n",
      " [     3  17927]\n",
      " [     4 125178]\n",
      " [     5  61051]\n",
      " [     6 150598]\n",
      " [     7     23]]\n"
     ]
    }
   ],
   "source": [
    "colors = np.array(np.unique(kmeans.labels_, return_counts=True)).T\n",
    "print(colors)"
   ]
  },
  {
   "cell_type": "code",
   "execution_count": 861,
   "metadata": {},
   "outputs": [
    {
     "data": {
      "text/plain": [
       "array([5, 5, 5, ..., 5, 5, 5], dtype=int32)"
      ]
     },
     "execution_count": 861,
     "metadata": {},
     "output_type": "execute_result"
    }
   ],
   "source": [
    "kmeans.labels_"
   ]
  },
  {
   "cell_type": "markdown",
   "metadata": {},
   "source": [
    "# Start HERE"
   ]
  },
  {
   "cell_type": "code",
   "execution_count": 327,
   "metadata": {},
   "outputs": [],
   "source": [
    "hsv_knn2 = load('ds_h_knn_2.joblib')"
   ]
  },
  {
   "cell_type": "code",
   "execution_count": 891,
   "metadata": {},
   "outputs": [],
   "source": [
    "predict_colors = hsv_knn.predict(X_pixels)"
   ]
  },
  {
   "cell_type": "code",
   "execution_count": 892,
   "metadata": {},
   "outputs": [
    {
     "data": {
      "text/plain": [
       "array(['Sap Green', 'Sap Green', 'Sap Green', ..., 'Sap Green',\n",
       "       'Sap Green', 'Sap Green'], dtype=object)"
      ]
     },
     "execution_count": 892,
     "metadata": {},
     "output_type": "execute_result"
    }
   ],
   "source": [
    "predict_colors"
   ]
  },
  {
   "cell_type": "code",
   "execution_count": 893,
   "metadata": {},
   "outputs": [],
   "source": [
    "colors = np.array(np.unique(predict_colors, return_counts=True)).T"
   ]
  },
  {
   "cell_type": "code",
   "execution_count": 894,
   "metadata": {},
   "outputs": [
    {
     "data": {
      "text/plain": [
       "array([['Alizarin Crimson', 7],\n",
       "       ['Bismuth Vanadate Yellow', 645],\n",
       "       ['Burnt Umber', 2030],\n",
       "       ['Cadmium Red Medium Hue', 46],\n",
       "       ['Cadmium Yellow Light Hue', 661],\n",
       "       ['Cadmium Yellow Medium Hue', 1235],\n",
       "       ['Green Gold', 4448],\n",
       "       ['Hansa Yellow Medium', 1841],\n",
       "       ['Hooker’s Green', 337],\n",
       "       ['Indian Yellow', 1059],\n",
       "       ['Naples Yellow', 1046],\n",
       "       ['Nickel Azo Yellow', 1442],\n",
       "       ['Organic Vermilion', 45285],\n",
       "       ['Perinone Orange', 3932],\n",
       "       ['Permanent Alizarin Crimson', 13],\n",
       "       ['Pyrrol Orange', 2504],\n",
       "       ['Pyrrol Red', 22680],\n",
       "       ['Pyrrol Scarlet', 18586],\n",
       "       ['Quinacridone Burnt Scarlet', 22332],\n",
       "       ['Quinacridone Coral', 49075],\n",
       "       ['Quinacridone Deep Gold', 3957],\n",
       "       ['Quinacridone Gold', 1592],\n",
       "       ['Quinacridone Magenta', 2],\n",
       "       ['Quinacridone Red', 1],\n",
       "       ['Quinacridone Sienna', 6567],\n",
       "       ['Raw Sienna', 1806],\n",
       "       ['Raw Umber', 1471],\n",
       "       ['Rich Green Gold', 1427],\n",
       "       ['Sap Green', 521002],\n",
       "       ['Sepia', 2097],\n",
       "       ['Shadow Violet', 28949]], dtype=object)"
      ]
     },
     "execution_count": 894,
     "metadata": {},
     "output_type": "execute_result"
    }
   ],
   "source": [
    "colors"
   ]
  },
  {
   "cell_type": "code",
   "execution_count": 895,
   "metadata": {},
   "outputs": [],
   "source": [
    "predictions = pd.DataFrame(colors, columns=[\"name\",\"pixels\"])"
   ]
  },
  {
   "cell_type": "code",
   "execution_count": 896,
   "metadata": {},
   "outputs": [
    {
     "data": {
      "text/html": [
       "<div>\n",
       "<style scoped>\n",
       "    .dataframe tbody tr th:only-of-type {\n",
       "        vertical-align: middle;\n",
       "    }\n",
       "\n",
       "    .dataframe tbody tr th {\n",
       "        vertical-align: top;\n",
       "    }\n",
       "\n",
       "    .dataframe thead th {\n",
       "        text-align: right;\n",
       "    }\n",
       "</style>\n",
       "<table border=\"1\" class=\"dataframe\">\n",
       "  <thead>\n",
       "    <tr style=\"text-align: right;\">\n",
       "      <th></th>\n",
       "      <th>name</th>\n",
       "      <th>pixels</th>\n",
       "    </tr>\n",
       "  </thead>\n",
       "  <tbody>\n",
       "    <tr>\n",
       "      <th>28</th>\n",
       "      <td>Sap Green</td>\n",
       "      <td>521002</td>\n",
       "    </tr>\n",
       "    <tr>\n",
       "      <th>19</th>\n",
       "      <td>Quinacridone Coral</td>\n",
       "      <td>49075</td>\n",
       "    </tr>\n",
       "    <tr>\n",
       "      <th>12</th>\n",
       "      <td>Organic Vermilion</td>\n",
       "      <td>45285</td>\n",
       "    </tr>\n",
       "    <tr>\n",
       "      <th>30</th>\n",
       "      <td>Shadow Violet</td>\n",
       "      <td>28949</td>\n",
       "    </tr>\n",
       "    <tr>\n",
       "      <th>16</th>\n",
       "      <td>Pyrrol Red</td>\n",
       "      <td>22680</td>\n",
       "    </tr>\n",
       "    <tr>\n",
       "      <th>18</th>\n",
       "      <td>Quinacridone Burnt Scarlet</td>\n",
       "      <td>22332</td>\n",
       "    </tr>\n",
       "    <tr>\n",
       "      <th>17</th>\n",
       "      <td>Pyrrol Scarlet</td>\n",
       "      <td>18586</td>\n",
       "    </tr>\n",
       "    <tr>\n",
       "      <th>24</th>\n",
       "      <td>Quinacridone Sienna</td>\n",
       "      <td>6567</td>\n",
       "    </tr>\n",
       "    <tr>\n",
       "      <th>6</th>\n",
       "      <td>Green Gold</td>\n",
       "      <td>4448</td>\n",
       "    </tr>\n",
       "    <tr>\n",
       "      <th>20</th>\n",
       "      <td>Quinacridone Deep Gold</td>\n",
       "      <td>3957</td>\n",
       "    </tr>\n",
       "    <tr>\n",
       "      <th>13</th>\n",
       "      <td>Perinone Orange</td>\n",
       "      <td>3932</td>\n",
       "    </tr>\n",
       "    <tr>\n",
       "      <th>15</th>\n",
       "      <td>Pyrrol Orange</td>\n",
       "      <td>2504</td>\n",
       "    </tr>\n",
       "    <tr>\n",
       "      <th>29</th>\n",
       "      <td>Sepia</td>\n",
       "      <td>2097</td>\n",
       "    </tr>\n",
       "    <tr>\n",
       "      <th>2</th>\n",
       "      <td>Burnt Umber</td>\n",
       "      <td>2030</td>\n",
       "    </tr>\n",
       "    <tr>\n",
       "      <th>7</th>\n",
       "      <td>Hansa Yellow Medium</td>\n",
       "      <td>1841</td>\n",
       "    </tr>\n",
       "    <tr>\n",
       "      <th>25</th>\n",
       "      <td>Raw Sienna</td>\n",
       "      <td>1806</td>\n",
       "    </tr>\n",
       "    <tr>\n",
       "      <th>21</th>\n",
       "      <td>Quinacridone Gold</td>\n",
       "      <td>1592</td>\n",
       "    </tr>\n",
       "    <tr>\n",
       "      <th>26</th>\n",
       "      <td>Raw Umber</td>\n",
       "      <td>1471</td>\n",
       "    </tr>\n",
       "    <tr>\n",
       "      <th>11</th>\n",
       "      <td>Nickel Azo Yellow</td>\n",
       "      <td>1442</td>\n",
       "    </tr>\n",
       "    <tr>\n",
       "      <th>27</th>\n",
       "      <td>Rich Green Gold</td>\n",
       "      <td>1427</td>\n",
       "    </tr>\n",
       "    <tr>\n",
       "      <th>5</th>\n",
       "      <td>Cadmium Yellow Medium Hue</td>\n",
       "      <td>1235</td>\n",
       "    </tr>\n",
       "    <tr>\n",
       "      <th>9</th>\n",
       "      <td>Indian Yellow</td>\n",
       "      <td>1059</td>\n",
       "    </tr>\n",
       "    <tr>\n",
       "      <th>10</th>\n",
       "      <td>Naples Yellow</td>\n",
       "      <td>1046</td>\n",
       "    </tr>\n",
       "    <tr>\n",
       "      <th>4</th>\n",
       "      <td>Cadmium Yellow Light Hue</td>\n",
       "      <td>661</td>\n",
       "    </tr>\n",
       "    <tr>\n",
       "      <th>1</th>\n",
       "      <td>Bismuth Vanadate Yellow</td>\n",
       "      <td>645</td>\n",
       "    </tr>\n",
       "    <tr>\n",
       "      <th>8</th>\n",
       "      <td>Hooker’s Green</td>\n",
       "      <td>337</td>\n",
       "    </tr>\n",
       "    <tr>\n",
       "      <th>3</th>\n",
       "      <td>Cadmium Red Medium Hue</td>\n",
       "      <td>46</td>\n",
       "    </tr>\n",
       "    <tr>\n",
       "      <th>14</th>\n",
       "      <td>Permanent Alizarin Crimson</td>\n",
       "      <td>13</td>\n",
       "    </tr>\n",
       "    <tr>\n",
       "      <th>0</th>\n",
       "      <td>Alizarin Crimson</td>\n",
       "      <td>7</td>\n",
       "    </tr>\n",
       "    <tr>\n",
       "      <th>22</th>\n",
       "      <td>Quinacridone Magenta</td>\n",
       "      <td>2</td>\n",
       "    </tr>\n",
       "    <tr>\n",
       "      <th>23</th>\n",
       "      <td>Quinacridone Red</td>\n",
       "      <td>1</td>\n",
       "    </tr>\n",
       "  </tbody>\n",
       "</table>\n",
       "</div>"
      ],
      "text/plain": [
       "                          name  pixels\n",
       "28                   Sap Green  521002\n",
       "19          Quinacridone Coral   49075\n",
       "12           Organic Vermilion   45285\n",
       "30               Shadow Violet   28949\n",
       "16                  Pyrrol Red   22680\n",
       "18  Quinacridone Burnt Scarlet   22332\n",
       "17              Pyrrol Scarlet   18586\n",
       "24         Quinacridone Sienna    6567\n",
       "6                   Green Gold    4448\n",
       "20      Quinacridone Deep Gold    3957\n",
       "13             Perinone Orange    3932\n",
       "15               Pyrrol Orange    2504\n",
       "29                       Sepia    2097\n",
       "2                  Burnt Umber    2030\n",
       "7          Hansa Yellow Medium    1841\n",
       "25                  Raw Sienna    1806\n",
       "21           Quinacridone Gold    1592\n",
       "26                   Raw Umber    1471\n",
       "11           Nickel Azo Yellow    1442\n",
       "27             Rich Green Gold    1427\n",
       "5    Cadmium Yellow Medium Hue    1235\n",
       "9                Indian Yellow    1059\n",
       "10               Naples Yellow    1046\n",
       "4     Cadmium Yellow Light Hue     661\n",
       "1      Bismuth Vanadate Yellow     645\n",
       "8               Hooker’s Green     337\n",
       "3       Cadmium Red Medium Hue      46\n",
       "14  Permanent Alizarin Crimson      13\n",
       "0             Alizarin Crimson       7\n",
       "22        Quinacridone Magenta       2\n",
       "23            Quinacridone Red       1"
      ]
     },
     "execution_count": 896,
     "metadata": {},
     "output_type": "execute_result"
    }
   ],
   "source": [
    "predictions.sort_values(by=['pixels'], ascending = False)"
   ]
  }
 ],
 "metadata": {
  "kernelspec": {
   "display_name": "Python 3",
   "language": "python",
   "name": "python3"
  },
  "language_info": {
   "codemirror_mode": {
    "name": "ipython",
    "version": 3
   },
   "file_extension": ".py",
   "mimetype": "text/x-python",
   "name": "python",
   "nbconvert_exporter": "python",
   "pygments_lexer": "ipython3",
   "version": "3.7.7"
  }
 },
 "nbformat": 4,
 "nbformat_minor": 4
}
