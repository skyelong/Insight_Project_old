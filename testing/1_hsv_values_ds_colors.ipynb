{
 "cells": [
  {
   "cell_type": "markdown",
   "metadata": {},
   "source": [
    "# Get general average HSV values for Daniel Smith cropped images "
   ]
  },
  {
   "cell_type": "code",
   "execution_count": null,
   "metadata": {},
   "outputs": [],
   "source": [
    "import pandas as pd\n",
    "paths_df = pd.read_csv('paths_df.csv')"
   ]
  },
  {
   "cell_type": "code",
   "execution_count": null,
   "metadata": {},
   "outputs": [],
   "source": [
    "#create the lists to hold the averaged hsv values\n",
    "h = []\n",
    "s = []\n",
    "v = []\n",
    "import cv2"
   ]
  },
  {
   "cell_type": "code",
   "execution_count": null,
   "metadata": {},
   "outputs": [],
   "source": [
    "#uses cv2 to import the cropped images and calculate the mean of the whole image for each channel\n",
    "for i in range(0,len(paths_df)):\n",
    "    image_path = paths_df.crop_path[i]\n",
    "    image = cv2.imread(image_path)\n",
    "    image_h_mean = cv2.cvtColor(image, cv2.COLOR_BGR2HSV).mean(axis=1)[:,0].mean()\n",
    "    image_s_mean = cv2.cvtColor(image, cv2.COLOR_BGR2HSV).mean(axis=1)[:,1].mean()\n",
    "    image_v_mean = cv2.cvtColor(image, cv2.COLOR_BGR2HSV).mean(axis=1)[:,2].mean()\n",
    "    h.append(image_h_mean)\n",
    "    s.append(image_s_mean)\n",
    "    v.append(image_v_mean)\n",
    "    "
   ]
  },
  {
   "cell_type": "code",
   "execution_count": null,
   "metadata": {},
   "outputs": [],
   "source": [
    "#append the values to the dataframe\n",
    "paths_df['h'] = h\n",
    "paths_df['s'] = s\n",
    "paths_df['v'] = v"
   ]
  },
  {
   "cell_type": "markdown",
   "metadata": {},
   "source": [
    "# Upload the complete pigment information df to SQL"
   ]
  },
  {
   "cell_type": "code",
   "execution_count": null,
   "metadata": {},
   "outputs": [],
   "source": []
  }
 ],
 "metadata": {
  "kernelspec": {
   "display_name": "Python 3",
   "language": "python",
   "name": "python3"
  },
  "language_info": {
   "codemirror_mode": {
    "name": "ipython",
    "version": 3
   },
   "file_extension": ".py",
   "mimetype": "text/x-python",
   "name": "python",
   "nbconvert_exporter": "python",
   "pygments_lexer": "ipython3",
   "version": "3.7.7"
  }
 },
 "nbformat": 4,
 "nbformat_minor": 4
}
