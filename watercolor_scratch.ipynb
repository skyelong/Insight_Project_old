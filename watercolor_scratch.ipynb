{
 "cells": [
  {
   "cell_type": "markdown",
   "metadata": {},
   "source": [
    "# Test scripts for the watercolorist app\n",
    "\n",
    "To Do:\n",
    "1. Collect pigment information from websites and merge into single database\n",
    "    a. Data base must have the pigment#, color name, manufacturer (limit to 3 major manufacturers(Daniel Smith, M  Graham & Windsor Newton)\n",
    "    b. Generate HSV or RGB profiles for swatches of pure pigments and merge to pigment database\n",
    "    c. Generate HSV or RGB profiles for common color mixes from web images for \n",
    "        1. neutrals\n",
    "        2. greens\n",
    "        3. skintones\n",
    "2. Segment image into color zones using K-means clustering\n",
    "    a. Generate HSV or RGB profiles for color zones\n",
    "        1. Must ignore white\n",
    "    b. Use K-Means clustering on each segment to match to colors in database\n",
    "        1. Return the \"convience color\" and \"mixed color match\"\n",
    "            a. return should have image of closest matches from all three manufacturers starting with the closest for both the mix and the convience color\n",
    "            b. return price information \n",
    "            c. return toxicity, color-fastness, pigment number\n",
    "            \n",
    "3. Possibly allow the user to prioritize one of the features?\n",
    "4. Maybe link to videos or images of tutorial on painting the topic of what they are painting? Flowers, birds, portaits?\n",
    "5. Maybe link to swatching videos or reviews of pigments?\n",
    "        \n"
   ]
  },
  {
   "cell_type": "markdown",
   "metadata": {},
   "source": [
    "## 1. Web scraping information from manufacturers websites"
   ]
  },
  {
   "cell_type": "code",
   "execution_count": null,
   "metadata": {},
   "outputs": [],
   "source": []
  }
 ],
 "metadata": {
  "kernelspec": {
   "display_name": "Python 3",
   "language": "python",
   "name": "python3"
  },
  "language_info": {
   "codemirror_mode": {
    "name": "ipython",
    "version": 3
   },
   "file_extension": ".py",
   "mimetype": "text/x-python",
   "name": "python",
   "nbconvert_exporter": "python",
   "pygments_lexer": "ipython3",
   "version": "3.7.7"
  }
 },
 "nbformat": 4,
 "nbformat_minor": 4
}
