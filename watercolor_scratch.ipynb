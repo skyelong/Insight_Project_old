{
 "cells": [
  {
   "cell_type": "markdown",
   "metadata": {},
   "source": [
    "# Test scripts for the watercolorist app\n",
    "\n",
    "To Do:\n",
    "1. Collect pigment information from websites and merge into single database\n",
    "    a. Data base must have the pigment#, color name, manufacturer (limit to 3 major manufacturers(Daniel Smith, M  Graham & Windsor Newton)\n",
    "    b. Generate HSV or RGB profiles for swatches of pure pigments and merge to pigment database\n",
    "    c. Generate HSV or RGB profiles for common color mixes from web images for \n",
    "        1. neutrals\n",
    "        2. greens\n",
    "        3. skintones\n",
    "2. Segment image into color zones using K-means clustering\n",
    "    a. Generate HSV or RGB profiles for color zones\n",
    "        1. Must ignore white\n",
    "    b. Use K-Means clustering on each segment to match to colors in database\n",
    "        1. Return the \"convience color\" and \"mixed color match\"\n",
    "            a. return should have image of closest matches from all three manufacturers starting with the closest for both the mix and the convience color\n",
    "            b. return price information \n",
    "            c. return toxicity, color-fastness, pigment number\n",
    "            \n",
    "3. Possibly allow the user to prioritize one of the features?\n",
    "4. Maybe link to videos or images of tutorial on painting the topic of what they are painting? Flowers, birds, portaits?\n",
    "5. Maybe link to swatching videos or reviews of pigments?\n",
    "        \n"
   ]
  },
  {
   "cell_type": "markdown",
   "metadata": {},
   "source": [
    "## 1. Web scraping information from manufacturers websites\n",
    "Daniel Smith 150 primary colors - ignore perlecent colors\n",
    "\n",
    "Using Chrome the webpages are organized as:\n",
    "danielsmith.com/color-name-5ml-tube-daniel-smith-extra-fine-watercolor/\n",
    "The color names are the only things that change - get list and generate for loop to create automated downloads\n",
    "\n",
    "Tag for the image is:\n",
    "<meta property=\"og:image\" content=\"http://danielsmith.com/wp-content/uploads/284610009_112817.jpg\" />\n",
    "\n",
    "Tag for the information is:\n",
    "<div id=\"post-2100\" class=\"section section-post-content post-2100 post type-post status-publish format-standard has-post-thumbnail hentry category-product category-wc5ml lightfastness-all lightfastness-lightfastness-i-excellent granulation-all granulation-granulation-granulating staining-all staining-staining-1-non-staining transparency-all transparency-transparency-semi-opaque colorfamily-all colorfamily-white colorfamily-yellow type-all\">\n",
    "\t<div class=\"section the_content\"><div class=\"section_wrapper\"><div class=\"the_content_wrapper\"><p>Spatter or drop a brushload of Buff Titanium into a moist wash and enjoy the pigment displacement, it is especially effective used that way to make clouds in the sky. Unique to DANIEL SMITH, Buff Titanium resembles the ecru shades of sand and antique lace and simulates the porous texture of an eggshell. It is a most welcome neutral, with its&#8217; semi-transparent to opaque, non-staining properties. Pre-mix Buff Titanium with Quinacridone Rose or Perinone Orange for subtle hues and matte surfaces ideal for the velvety petals of your favorite flowers. Mix with Indigo or Van Dyke Brown to create slate-colored shadows and soft feathers. Glaze a dried landscape with a misty, atmospheric mood.</p>\n",
    "<p>SKU: 284610009<br />\n",
    "Pigment: PW 6:1 | Series: 1<br />\n",
    "Lightfastness: I &#8211; Excellent<br />\n",
    "Transparency: Semi-Opaque<br />\n",
    "Staining: 1-Non-Staining<br />\n",
    "Granulation: Granulating</p>"
   ]
  },
  {
   "cell_type": "code",
   "execution_count": null,
   "metadata": {},
   "outputs": [],
   "source": []
  }
 ],
 "metadata": {
  "kernelspec": {
   "display_name": "Python 3",
   "language": "python",
   "name": "python3"
  },
  "language_info": {
   "codemirror_mode": {
    "name": "ipython",
    "version": 3
   },
   "file_extension": ".py",
   "mimetype": "text/x-python",
   "name": "python",
   "nbconvert_exporter": "python",
   "pygments_lexer": "ipython3",
   "version": "3.7.7"
  }
 },
 "nbformat": 4,
 "nbformat_minor": 4
}
